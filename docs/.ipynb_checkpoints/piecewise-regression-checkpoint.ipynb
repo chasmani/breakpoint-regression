{
 "cells": [
  {
   "cell_type": "markdown",
   "id": "3b6d3059",
   "metadata": {},
   "source": [
    "# piecewise-regression"
   ]
  },
  {
   "cell_type": "markdown",
   "id": "290b7536",
   "metadata": {},
   "source": [
    "This notebook provides some basic examples for using peicewise-regression to fit continuous straight line models to data where there are changes in gradient."
   ]
  },
  {
   "cell_type": "code",
   "execution_count": 2,
   "id": "13251891",
   "metadata": {},
   "outputs": [
    {
     "name": "stdout",
     "output_type": "stream",
     "text": [
      "\u001b[33mDEPRECATION: Configuring installation scheme with distutils config files is deprecated and will no longer work in the near future. If you are using a Homebrew or Linuxbrew Python, please see discussion at https://github.com/Homebrew/homebrew-core/issues/76621\u001b[0m\n",
      "Collecting piecewise-regression\n",
      "  Using cached piecewise-regression-1.0.4.tar.gz (28 kB)\n",
      "Requirement already satisfied: numpy in /usr/local/lib/python3.9/site-packages (from piecewise-regression) (1.21.4)\n",
      "Requirement already satisfied: matplotlib in /usr/local/lib/python3.9/site-packages (from piecewise-regression) (3.4.3)\n",
      "Requirement already satisfied: scipy in /usr/local/lib/python3.9/site-packages (from piecewise-regression) (1.7.2)\n",
      "Collecting statsmodels\n",
      "  Downloading statsmodels-0.13.1-cp39-cp39-macosx_10_15_x86_64.whl (9.6 MB)\n",
      "\u001b[K     |████████████████████████████████| 9.6 MB 6.1 MB/s eta 0:00:01\n",
      "\u001b[?25hRequirement already satisfied: pyparsing>=2.2.1 in /usr/local/lib/python3.9/site-packages (from matplotlib->piecewise-regression) (2.4.7)\n",
      "Requirement already satisfied: pillow>=6.2.0 in /usr/local/lib/python3.9/site-packages (from matplotlib->piecewise-regression) (8.4.0)\n",
      "Requirement already satisfied: cycler>=0.10 in /usr/local/lib/python3.9/site-packages (from matplotlib->piecewise-regression) (0.11.0)\n",
      "Requirement already satisfied: python-dateutil>=2.7 in /usr/local/lib/python3.9/site-packages (from matplotlib->piecewise-regression) (2.8.2)\n",
      "Requirement already satisfied: kiwisolver>=1.0.1 in /usr/local/lib/python3.9/site-packages (from matplotlib->piecewise-regression) (1.3.2)\n",
      "Requirement already satisfied: six>=1.5 in /usr/local/lib/python3.9/site-packages (from python-dateutil>=2.7->matplotlib->piecewise-regression) (1.16.0)\n",
      "Collecting patsy>=0.5.2\n",
      "  Using cached patsy-0.5.2-py2.py3-none-any.whl (233 kB)\n",
      "Requirement already satisfied: pandas>=0.25 in /usr/local/lib/python3.9/site-packages (from statsmodels->piecewise-regression) (1.3.4)\n",
      "Requirement already satisfied: pytz>=2017.3 in /usr/local/lib/python3.9/site-packages (from pandas>=0.25->statsmodels->piecewise-regression) (2021.3)\n",
      "Building wheels for collected packages: piecewise-regression\n",
      "\u001b[33m  WARNING: Building wheel for piecewise-regression failed: [Errno 13] Permission denied: '/Users/cpilgrim/Library/Caches/pip/wheels/18'\u001b[0m\n",
      "Failed to build piecewise-regression\n",
      "Installing collected packages: patsy, statsmodels, piecewise-regression\n",
      "\u001b[33m  DEPRECATION: Configuring installation scheme with distutils config files is deprecated and will no longer work in the near future. If you are using a Homebrew or Linuxbrew Python, please see discussion at https://github.com/Homebrew/homebrew-core/issues/76621\u001b[0m\n",
      "\u001b[33m  DEPRECATION: Configuring installation scheme with distutils config files is deprecated and will no longer work in the near future. If you are using a Homebrew or Linuxbrew Python, please see discussion at https://github.com/Homebrew/homebrew-core/issues/76621\u001b[0m\n",
      "    Running setup.py install for piecewise-regression ... \u001b[?25ldone\n",
      "\u001b[33m  DEPRECATION: piecewise-regression was installed using the legacy 'setup.py install' method, because a wheel could not be built for it. A possible replacement is to fix the wheel build issue reported above. You can find discussion regarding this at https://github.com/pypa/pip/issues/8368.\u001b[0m\n",
      "\u001b[?25hSuccessfully installed patsy-0.5.2 piecewise-regression-1.0.4 statsmodels-0.13.1\n",
      "\u001b[33mWARNING: You are using pip version 21.2.4; however, version 21.3.1 is available.\n",
      "You should consider upgrading via the '/usr/local/opt/python@3.9/bin/python3.9 -m pip install --upgrade pip' command.\u001b[0m\n"
     ]
    }
   ],
   "source": [
    "import sys\n",
    "!{sys.executable} -m pip install piecewise-regression\n"
   ]
  },
  {
   "cell_type": "code",
   "execution_count": null,
   "id": "c2e525a1",
   "metadata": {},
   "outputs": [],
   "source": []
  }
 ],
 "metadata": {
  "kernelspec": {
   "display_name": "Python 3 (ipykernel)",
   "language": "python",
   "name": "python3"
  },
  "language_info": {
   "codemirror_mode": {
    "name": "ipython",
    "version": 3
   },
   "file_extension": ".py",
   "mimetype": "text/x-python",
   "name": "python",
   "nbconvert_exporter": "python",
   "pygments_lexer": "ipython3",
   "version": "3.9.7"
  }
 },
 "nbformat": 4,
 "nbformat_minor": 5
}
